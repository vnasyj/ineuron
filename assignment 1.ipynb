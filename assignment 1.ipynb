{
 "cells": [
  {
   "cell_type": "code",
   "execution_count": 2,
   "id": "9fea2a7c",
   "metadata": {},
   "outputs": [
    {
     "name": "stdout",
     "output_type": "stream",
     "text": [
      "hello Python\n"
     ]
    }
   ],
   "source": [
    "# Write a Python program to print \"Hello Python\"?\n",
    "print(\"hello Python\")"
   ]
  },
  {
   "cell_type": "code",
   "execution_count": 4,
   "id": "0bdd714d",
   "metadata": {},
   "outputs": [
    {
     "name": "stdout",
     "output_type": "stream",
     "text": [
      "30\n",
      "2.0\n"
     ]
    }
   ],
   "source": [
    "# Write a Python program to do arithmetical operations addition and division.?\n",
    "a=10\n",
    "b=20\n",
    "# addition\n",
    "print(a+b)\n",
    "# division\n",
    "print(b/a)"
   ]
  },
  {
   "cell_type": "code",
   "execution_count": 6,
   "id": "0cb97b64",
   "metadata": {},
   "outputs": [
    {
     "name": "stdout",
     "output_type": "stream",
     "text": [
      "100.0\n"
     ]
    }
   ],
   "source": [
    "# Write a Python program to find the area of a triangle?\n",
    "base=10\n",
    "height=20\n",
    "area_of_triangle=(base*height)/2\n",
    "print(area_of_triangle)"
   ]
  },
  {
   "cell_type": "code",
   "execution_count": 9,
   "id": "1ab52217",
   "metadata": {},
   "outputs": [
    {
     "name": "stdout",
     "output_type": "stream",
     "text": [
      "20\n",
      "10\n"
     ]
    }
   ],
   "source": [
    "# Write a Python program to swap two variables?\n",
    "a=10\n",
    "b=20\n",
    "temp=a\n",
    "a=b\n",
    "b=temp\n",
    "print(a)\n",
    "print(b)"
   ]
  },
  {
   "cell_type": "code",
   "execution_count": 10,
   "id": "a56f0048",
   "metadata": {},
   "outputs": [
    {
     "name": "stdout",
     "output_type": "stream",
     "text": [
      "3\n"
     ]
    }
   ],
   "source": [
    "# Write a Python program to generate a random number?\n",
    "import random\n",
    "print(random.randint(1,10))"
   ]
  },
  {
   "cell_type": "code",
   "execution_count": null,
   "id": "bbdd02f3",
   "metadata": {},
   "outputs": [],
   "source": []
  }
 ],
 "metadata": {
  "kernelspec": {
   "display_name": "Python 3",
   "language": "python",
   "name": "python3"
  },
  "language_info": {
   "codemirror_mode": {
    "name": "ipython",
    "version": 3
   },
   "file_extension": ".py",
   "mimetype": "text/x-python",
   "name": "python",
   "nbconvert_exporter": "python",
   "pygments_lexer": "ipython3",
   "version": "3.8.8"
  }
 },
 "nbformat": 4,
 "nbformat_minor": 5
}
